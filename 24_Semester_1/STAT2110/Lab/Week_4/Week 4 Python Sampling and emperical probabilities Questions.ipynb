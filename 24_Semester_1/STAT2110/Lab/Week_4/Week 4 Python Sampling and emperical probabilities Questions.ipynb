{
 "cells": [
  {
   "cell_type": "markdown",
   "metadata": {},
   "source": []
  },
  {
   "cell_type": "markdown",
   "metadata": {},
   "source": [
    "<table align=left>\n",
    "    <tr>\n",
    "        <td> <img src=\"uon.jpeg\" align=right width=80 height=80> </td>\n",
    "        <td>\n",
    "            <h1> STAT2110 Engineering Statistics </h1>\n",
    "            <h2> Semester 1, 2022 </h2>\n",
    "        </td>\n",
    "    </tr>\n",
    "</table> "
   ]
  },
  {
   "cell_type": "markdown",
   "metadata": {},
   "source": [
    "### Python Week 4: Sampling and emperical probabilities"
   ]
  },
  {
   "cell_type": "code",
   "execution_count": 1,
   "metadata": {},
   "outputs": [
    {
     "name": "stdout",
     "output_type": "stream",
     "text": [
      "Python 3.8.8\n"
     ]
    }
   ],
   "source": [
    "!python --version"
   ]
  },
  {
   "cell_type": "code",
   "execution_count": 3,
   "metadata": {},
   "outputs": [
    {
     "name": "stdout",
     "output_type": "stream",
     "text": [
      "numpy 1.21.4\n",
      "scipy 1.7.2\n",
      "pandas 1.3.4\n",
      "matplotlib 3.5.0\n"
     ]
    }
   ],
   "source": [
    "import numpy as np\n",
    "import scipy as sp\n",
    "import pandas as pd\n",
    "import matplotlib as plt\n",
    "print(np.__name__, np.__version__)\n",
    "print(sp.__name__, sp.__version__)\n",
    "print(pd.__name__, pd.__version__)\n",
    "print(plt.__name__, plt.__version__)"
   ]
  },
  {
   "cell_type": "markdown",
   "metadata": {},
   "source": [
    "**Note:** You may need to install **pandas** package. On **PyCharm** to install packages complete the following:"
   ]
  },
  {
   "cell_type": "markdown",
   "metadata": {},
   "source": [
    " <p style=\"margin-left: 40px\">\n",
    " Click on View, select \"Tool Window\" and click on \"Python Packages\""
   ]
  },
  {
   "cell_type": "markdown",
   "metadata": {},
   "source": [
    " <p style=\"margin-left: 40px\"> Search \"pandas\" in the searchbar in the window which opens below. Then click on install (Left hand top corner of Python Packages Window)."
   ]
  },
  {
   "cell_type": "markdown",
   "metadata": {},
   "source": [
    " <p style=\"margin-left: 40px\">\n",
    " See Week 1 Workshop for more information "
   ]
  },
  {
   "cell_type": "markdown",
   "metadata": {},
   "source": [
    "A standard deck of cards consists of $52$ cards, $13$ cards for each of $4$ suits: hearts, diamonds, \n",
    "spades, and clubs. In this exercise, we will compare probabilities when drawing $5$ cards from \n",
    "the deck, both with replacement (i.e. after each draw, we replace the drawn card in the deck \n",
    "before drawing again) and without replacement (i.e. after each draw, we do not replace the \n",
    "drawn card before drawing again)."
   ]
  },
  {
   "cell_type": "markdown",
   "metadata": {},
   "source": [
    "Let $X$ be the number of clubs in our hand when we draw 5 cards with replacement, and let $Y$\n",
    "be the number of clubs in our hand when we draw 5 cards without replacement."
   ]
  },
  {
   "cell_type": "markdown",
   "metadata": {},
   "source": [
    "<strong>Step 1:</strong> Define a vector to contain the card suit strings."
   ]
  },
  {
   "cell_type": "markdown",
   "metadata": {},
   "source": [
    "First, let’s generate a string called `cards`, from which we will simulate our card \n",
    "draws. Note the use of the `repeat()` function from the **NumPy** package will be required to repeat the elements in the suits vector 13 times:"
   ]
  },
  {
   "cell_type": "markdown",
   "metadata": {},
   "source": [
    "Firstly, make sure to import the **NumPy** Package as above"
   ]
  },
  {
   "cell_type": "code",
   "execution_count": 4,
   "metadata": {},
   "outputs": [],
   "source": [
    "suits=[\"Hearts\", \"Diamonds\", \"Spades\", \"Clubs\"] #4 suits\n",
    "cards=np.repeat(suits, 13)  #generate card deck of 52 cards"
   ]
  },
  {
   "cell_type": "markdown",
   "metadata": {},
   "source": [
    "We will now simulate $100,000$ different draws of $5$ cards, both with and without replacement."
   ]
  },
  {
   "cell_type": "markdown",
   "metadata": {},
   "source": [
    "<strong>Step 2:</strong> Set up the simulation."
   ]
  },
  {
   "cell_type": "markdown",
   "metadata": {},
   "source": [
    "Next, let’s initialize vectors $X$ and $Y$ to contain the counts of the number of clubs drawn for \n",
    "each of the simulations:"
   ]
  },
  {
   "cell_type": "code",
   "execution_count": 5,
   "metadata": {},
   "outputs": [],
   "source": [
    "n_sim=10000\n",
    "X=[] #Variable for Number of clubs with replacement\n",
    "Y=[] #Variable for Number of clubs without replacement"
   ]
  },
  {
   "cell_type": "markdown",
   "metadata": {},
   "source": [
    "To sample cards, a useful function is the `random.choice()` function from the **NumPy** Package, which allows you to sample a specified number of elements from a supplied vector, both with and without replacement. For  example, let’s define a vector containing the states and territories of Australia:"
   ]
  },
  {
   "cell_type": "code",
   "execution_count": 40,
   "metadata": {},
   "outputs": [],
   "source": [
    "states=[\"ACT\", \"NSW\", \"NT\", \"QLD\", \"SA\", \"TAS\", \"VIC\", \"WA\"]"
   ]
  },
  {
   "cell_type": "markdown",
   "metadata": {},
   "source": [
    "Now, let’s draw 4 elements from this vector, both with and without replacement, with the `np.random.choice()` function, and use the `sum()` function to count the number of times “QLD” is in the sample:"
   ]
  },
  {
   "cell_type": "code",
   "execution_count": 41,
   "metadata": {},
   "outputs": [
    {
     "data": {
      "text/plain": [
       "array(['NT', 'VIC', 'SA', 'SA'], dtype='<U3')"
      ]
     },
     "execution_count": 41,
     "metadata": {},
     "output_type": "execute_result"
    }
   ],
   "source": [
    "draw4replace=np.random.choice(states,4,replace=True)  #With replacement\n",
    "draw4replace"
   ]
  },
  {
   "cell_type": "code",
   "execution_count": 42,
   "metadata": {},
   "outputs": [
    {
     "data": {
      "text/plain": [
       "array(['WA', 'TAS', 'QLD', 'ACT'], dtype='<U3')"
      ]
     },
     "execution_count": 42,
     "metadata": {},
     "output_type": "execute_result"
    }
   ],
   "source": [
    "draw4noreplace=np.random.choice(states,4,replace=False)  #Without replacement\n",
    "draw4noreplace"
   ]
  },
  {
   "cell_type": "code",
   "execution_count": 43,
   "metadata": {},
   "outputs": [
    {
     "data": {
      "text/plain": [
       "0"
      ]
     },
     "execution_count": 43,
     "metadata": {},
     "output_type": "execute_result"
    }
   ],
   "source": [
    "sum(draw4replace==\"QLD\")"
   ]
  },
  {
   "cell_type": "code",
   "execution_count": 44,
   "metadata": {},
   "outputs": [
    {
     "data": {
      "text/plain": [
       "1"
      ]
     },
     "execution_count": 44,
     "metadata": {},
     "output_type": "execute_result"
    }
   ],
   "source": [
    "sum(draw4noreplace==\"QLD\")"
   ]
  },
  {
   "cell_type": "markdown",
   "metadata": {},
   "source": [
    "<strong>Step 3:</strong> Use a for loop to simulate card draws and record the counts."
   ]
  },
  {
   "cell_type": "markdown",
   "metadata": {},
   "source": [
    "Now, you should write a for loop to simulate drawing $5$ cards, with and without replacement, \n",
    "and store the resulting counts of the number of clubs drawn each simulation in the vectors $X$\n",
    "and $Y$, respectively. Use the `np.random.choice()` and `sum()` functions, as well as `append()` to add new values to $X$ and $Y$ i.e.:"
   ]
  },
  {
   "cell_type": "markdown",
   "metadata": {},
   "source": [
    "`a.append(1)` add value $1$ to $a$"
   ]
  },
  {
   "cell_type": "markdown",
   "metadata": {},
   "source": [
    "<strong>Step 4:</strong> Generate frequency tables."
   ]
  },
  {
   "cell_type": "markdown",
   "metadata": {},
   "source": [
    "Having generated $X$ and $Y$, we can summarise the empirical counts of the number \n",
    "of clubs drawn in each simulation via the code below. This will require **pandas** packages to be loaded. To install See steps at start or Week 1 Workshop."
   ]
  },
  {
   "cell_type": "code",
   "execution_count": 6,
   "metadata": {},
   "outputs": [],
   "source": [
    "import pandas as pd"
   ]
  },
  {
   "cell_type": "markdown",
   "metadata": {},
   "source": [
    "Use the following code to convert $X$ and $Y$ into Dataframe and create pandas dataframes from *TabX* and *TabY* (Save empirical counts):"
   ]
  },
  {
   "cell_type": "code",
   "execution_count": 7,
   "metadata": {},
   "outputs": [],
   "source": [
    "X1=pd.DataFrame(X,columns=list(\"X\"))   #Data frame format\n",
    "Y1=pd.DataFrame(Y,columns=list(\"Y\"))   #Data frame format\n",
    "TabX=pd.DataFrame(columns=['X', 'Count', 'Percent'])   #Data frame to save empirical counts & percentages for X\n",
    "TabY=pd.DataFrame(columns=['Y', 'Count', 'Percent'])   #Data frame to save empirical counts & percentages for Y"
   ]
  },
  {
   "cell_type": "markdown",
   "metadata": {},
   "source": [
    "Following will compute counts and percentages for frequency of counts of clubs from 5 cards for Replacement (X) and without Replacement (Y)"
   ]
  },
  {
   "cell_type": "code",
   "execution_count": null,
   "metadata": {},
   "outputs": [],
   "source": [
    "TabX['Count']=X1['X'].value_counts().sort_index() #Save counts in order for replacement (X)\n",
    "TabX['Percent']=X1['X'].value_counts().sort_index()/n_sim #Save Percent in order for replacement (X)\n",
    "TabX['X'] = TabX.index   #Number of clubs\n",
    "TabX"
   ]
  },
  {
   "cell_type": "code",
   "execution_count": null,
   "metadata": {},
   "outputs": [],
   "source": [
    "TabY['Count']=Y1['Y'].value_counts().sort_index()   #Save Counts for Y in order for no replacement (Y)\n",
    "TabY['Percent']=Y1['Y'].value_counts().sort_index()/n_sim  #Save Percent in order for no replacement (Y)\n",
    "TabY['Y'] = TabX.index   #Number of clubs\n",
    "TabY"
   ]
  },
  {
   "cell_type": "markdown",
   "metadata": {},
   "source": [
    "The resulting tables contain $3$ columns: the first column contains the values of the $X$ and $Y$ variables ($0-5$). The second column contains the empirical counts, and the third column contains the corresponding percentages (out of $100$). "
   ]
  },
  {
   "cell_type": "markdown",
   "metadata": {},
   "source": [
    "<strong>Step 5:</strong> Graph the empirical probability mass functions."
   ]
  },
  {
   "cell_type": "markdown",
   "metadata": {},
   "source": [
    "We can graph the empirical probability mass functions using the `stem()` function from the **matplotlib** package. Instead of creating two separate graphs, we will combine them onto a single graph. We do this by off-setting the x-axis values corresponding to the number of clubs drawn by $±0.05$ so that the masses appear next to each other, for with and without replacement, at each number of clubs."
   ]
  },
  {
   "cell_type": "markdown",
   "metadata": {},
   "source": [
    "This will require **matplotlib** packages to be loaded, which is preinstalled on PyCharm. "
   ]
  },
  {
   "cell_type": "code",
   "execution_count": 10,
   "metadata": {},
   "outputs": [],
   "source": [
    "import matplotlib.pyplot as plt"
   ]
  },
  {
   "cell_type": "markdown",
   "metadata": {},
   "source": [
    "The following code will produce the combined plot:"
   ]
  },
  {
   "cell_type": "code",
   "execution_count": null,
   "metadata": {},
   "outputs": [],
   "source": [
    "offset=0.05\n",
    "plt.stem(TabX['X']-offset,TabX['Percent'], markerfmt='bo', label='With Replacement')\n",
    "plt.stem(TabY['Y']+offset,TabY['Percent'], markerfmt='go', label='Without Replacement')\n",
    "plt.legend()\n",
    "plt.xlabel(\"Number of clubs drawn\")\n",
    "plt.ylabel(\"Empirical probability\")\n",
    "plt.title(\"Empirical Probability Mass Function\")\n",
    "plt.show()"
   ]
  },
  {
   "cell_type": "markdown",
   "metadata": {},
   "source": [
    "### Exercise 1\n",
    "\n",
    "Having generated the empirical probability mass functions, answer the following questions."
   ]
  },
  {
   "cell_type": "markdown",
   "metadata": {},
   "source": [
    "**a)** - Is it more likely that we would draw $1$ club in a set of $5$ cards with or without replacement?"
   ]
  },
  {
   "cell_type": "markdown",
   "metadata": {},
   "source": [
    "**b)** -  Is it more likely that we would draw $2$ clubs in a set of $5$ cards with or without replacement?"
   ]
  },
  {
   "cell_type": "markdown",
   "metadata": {},
   "source": [
    "**c)** - Is it more likely that we would draw $3$ clubs in a set of $5$ cards with or without replacement?"
   ]
  },
  {
   "cell_type": "markdown",
   "metadata": {},
   "source": [
    "**d)** -  Using concepts from **Week 2**, verify by hand that $𝑃(𝑌 = 1) = 0.411$, $𝑃(𝑌 = 2) = 0.274$, and $𝑃(𝑌 = 3) = 0.082$. Do your empirical probabilities for variable $Y$ resemble these theoretical probabilities?"
   ]
  }
 ],
 "metadata": {
  "interpreter": {
   "hash": "aee8b7b246df8f9039afb4144a1f6fd8d2ca17a180786b69acc140d282b71a49"
  },
  "kernelspec": {
   "display_name": "Python 3.10.0 64-bit",
   "name": "python3"
  },
  "language_info": {
   "codemirror_mode": {
    "name": "ipython",
    "version": 3
   },
   "file_extension": ".py",
   "mimetype": "text/x-python",
   "name": "python",
   "nbconvert_exporter": "python",
   "pygments_lexer": "ipython3",
   "version": "3.10.0"
  },
  "orig_nbformat": 4
 },
 "nbformat": 4,
 "nbformat_minor": 2
}
